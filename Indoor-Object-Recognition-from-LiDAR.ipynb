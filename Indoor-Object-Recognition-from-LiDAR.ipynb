{
  "nbformat": 4,
  "nbformat_minor": 0,
  "metadata": {
    "colab": {
      "provenance": []
    },
    "kernelspec": {
      "name": "python3",
      "display_name": "Python 3"
    },
    "language_info": {
      "name": "python"
    }
  },
  "cells": [
    {
      "cell_type": "code",
      "execution_count": 1,
      "metadata": {
        "id": "sV3BCFP_Ox95",
        "colab": {
          "base_uri": "https://localhost:8080/"
        },
        "outputId": "ee51ada8-c39a-4442-ede6-9fec092ea47f"
      },
      "outputs": [
        {
          "output_type": "stream",
          "name": "stdout",
          "text": [
            "Mounted at /content/drive\n"
          ]
        }
      ],
      "source": [
        "from google.colab import drive\n",
        "drive.mount('/content/drive')"
      ]
    },
    {
      "cell_type": "code",
      "source": [
        "! pip install open3d"
      ],
      "metadata": {
        "colab": {
          "base_uri": "https://localhost:8080/"
        },
        "id": "5PnNi992nMHW",
        "outputId": "89da4467-ea88-4b57-f85b-b97ebdd3fd07"
      },
      "execution_count": 2,
      "outputs": [
        {
          "output_type": "stream",
          "name": "stdout",
          "text": [
            "Collecting open3d\n",
            "  Downloading open3d-0.19.0-cp311-cp311-manylinux_2_31_x86_64.whl.metadata (4.3 kB)\n",
            "Requirement already satisfied: numpy>=1.18.0 in /usr/local/lib/python3.11/dist-packages (from open3d) (2.0.2)\n",
            "Collecting dash>=2.6.0 (from open3d)\n",
            "  Downloading dash-3.0.4-py3-none-any.whl.metadata (10 kB)\n",
            "Requirement already satisfied: werkzeug>=3.0.0 in /usr/local/lib/python3.11/dist-packages (from open3d) (3.1.3)\n",
            "Requirement already satisfied: flask>=3.0.0 in /usr/local/lib/python3.11/dist-packages (from open3d) (3.1.1)\n",
            "Requirement already satisfied: nbformat>=5.7.0 in /usr/local/lib/python3.11/dist-packages (from open3d) (5.10.4)\n",
            "Collecting configargparse (from open3d)\n",
            "  Downloading configargparse-1.7.1-py3-none-any.whl.metadata (24 kB)\n",
            "Collecting ipywidgets>=8.0.4 (from open3d)\n",
            "  Downloading ipywidgets-8.1.7-py3-none-any.whl.metadata (2.4 kB)\n",
            "Collecting addict (from open3d)\n",
            "  Downloading addict-2.4.0-py3-none-any.whl.metadata (1.0 kB)\n",
            "Requirement already satisfied: pillow>=9.3.0 in /usr/local/lib/python3.11/dist-packages (from open3d) (11.2.1)\n",
            "Requirement already satisfied: matplotlib>=3 in /usr/local/lib/python3.11/dist-packages (from open3d) (3.10.0)\n",
            "Requirement already satisfied: pandas>=1.0 in /usr/local/lib/python3.11/dist-packages (from open3d) (2.2.2)\n",
            "Requirement already satisfied: pyyaml>=5.4.1 in /usr/local/lib/python3.11/dist-packages (from open3d) (6.0.2)\n",
            "Requirement already satisfied: scikit-learn>=0.21 in /usr/local/lib/python3.11/dist-packages (from open3d) (1.6.1)\n",
            "Requirement already satisfied: tqdm in /usr/local/lib/python3.11/dist-packages (from open3d) (4.67.1)\n",
            "Collecting pyquaternion (from open3d)\n",
            "  Downloading pyquaternion-0.9.9-py3-none-any.whl.metadata (1.4 kB)\n",
            "Collecting flask>=3.0.0 (from open3d)\n",
            "  Downloading flask-3.0.3-py3-none-any.whl.metadata (3.2 kB)\n",
            "Collecting werkzeug>=3.0.0 (from open3d)\n",
            "  Downloading werkzeug-3.0.6-py3-none-any.whl.metadata (3.7 kB)\n",
            "Requirement already satisfied: plotly>=5.0.0 in /usr/local/lib/python3.11/dist-packages (from dash>=2.6.0->open3d) (5.24.1)\n",
            "Requirement already satisfied: importlib-metadata in /usr/local/lib/python3.11/dist-packages (from dash>=2.6.0->open3d) (8.7.0)\n",
            "Requirement already satisfied: typing-extensions>=4.1.1 in /usr/local/lib/python3.11/dist-packages (from dash>=2.6.0->open3d) (4.13.2)\n",
            "Requirement already satisfied: requests in /usr/local/lib/python3.11/dist-packages (from dash>=2.6.0->open3d) (2.32.3)\n",
            "Collecting retrying (from dash>=2.6.0->open3d)\n",
            "  Downloading retrying-1.3.4-py3-none-any.whl.metadata (6.9 kB)\n",
            "Requirement already satisfied: nest-asyncio in /usr/local/lib/python3.11/dist-packages (from dash>=2.6.0->open3d) (1.6.0)\n",
            "Requirement already satisfied: setuptools in /usr/local/lib/python3.11/dist-packages (from dash>=2.6.0->open3d) (75.2.0)\n",
            "Requirement already satisfied: Jinja2>=3.1.2 in /usr/local/lib/python3.11/dist-packages (from flask>=3.0.0->open3d) (3.1.6)\n",
            "Requirement already satisfied: itsdangerous>=2.1.2 in /usr/local/lib/python3.11/dist-packages (from flask>=3.0.0->open3d) (2.2.0)\n",
            "Requirement already satisfied: click>=8.1.3 in /usr/local/lib/python3.11/dist-packages (from flask>=3.0.0->open3d) (8.2.1)\n",
            "Requirement already satisfied: blinker>=1.6.2 in /usr/local/lib/python3.11/dist-packages (from flask>=3.0.0->open3d) (1.9.0)\n",
            "Collecting comm>=0.1.3 (from ipywidgets>=8.0.4->open3d)\n",
            "  Downloading comm-0.2.2-py3-none-any.whl.metadata (3.7 kB)\n",
            "Requirement already satisfied: ipython>=6.1.0 in /usr/local/lib/python3.11/dist-packages (from ipywidgets>=8.0.4->open3d) (7.34.0)\n",
            "Requirement already satisfied: traitlets>=4.3.1 in /usr/local/lib/python3.11/dist-packages (from ipywidgets>=8.0.4->open3d) (5.7.1)\n",
            "Collecting widgetsnbextension~=4.0.14 (from ipywidgets>=8.0.4->open3d)\n",
            "  Downloading widgetsnbextension-4.0.14-py3-none-any.whl.metadata (1.6 kB)\n",
            "Requirement already satisfied: jupyterlab_widgets~=3.0.15 in /usr/local/lib/python3.11/dist-packages (from ipywidgets>=8.0.4->open3d) (3.0.15)\n",
            "Requirement already satisfied: contourpy>=1.0.1 in /usr/local/lib/python3.11/dist-packages (from matplotlib>=3->open3d) (1.3.2)\n",
            "Requirement already satisfied: cycler>=0.10 in /usr/local/lib/python3.11/dist-packages (from matplotlib>=3->open3d) (0.12.1)\n",
            "Requirement already satisfied: fonttools>=4.22.0 in /usr/local/lib/python3.11/dist-packages (from matplotlib>=3->open3d) (4.58.0)\n",
            "Requirement already satisfied: kiwisolver>=1.3.1 in /usr/local/lib/python3.11/dist-packages (from matplotlib>=3->open3d) (1.4.8)\n",
            "Requirement already satisfied: packaging>=20.0 in /usr/local/lib/python3.11/dist-packages (from matplotlib>=3->open3d) (24.2)\n",
            "Requirement already satisfied: pyparsing>=2.3.1 in /usr/local/lib/python3.11/dist-packages (from matplotlib>=3->open3d) (3.2.3)\n",
            "Requirement already satisfied: python-dateutil>=2.7 in /usr/local/lib/python3.11/dist-packages (from matplotlib>=3->open3d) (2.9.0.post0)\n",
            "Requirement already satisfied: fastjsonschema>=2.15 in /usr/local/lib/python3.11/dist-packages (from nbformat>=5.7.0->open3d) (2.21.1)\n",
            "Requirement already satisfied: jsonschema>=2.6 in /usr/local/lib/python3.11/dist-packages (from nbformat>=5.7.0->open3d) (4.23.0)\n",
            "Requirement already satisfied: jupyter-core!=5.0.*,>=4.12 in /usr/local/lib/python3.11/dist-packages (from nbformat>=5.7.0->open3d) (5.7.2)\n",
            "Requirement already satisfied: pytz>=2020.1 in /usr/local/lib/python3.11/dist-packages (from pandas>=1.0->open3d) (2025.2)\n",
            "Requirement already satisfied: tzdata>=2022.7 in /usr/local/lib/python3.11/dist-packages (from pandas>=1.0->open3d) (2025.2)\n",
            "Requirement already satisfied: scipy>=1.6.0 in /usr/local/lib/python3.11/dist-packages (from scikit-learn>=0.21->open3d) (1.15.3)\n",
            "Requirement already satisfied: joblib>=1.2.0 in /usr/local/lib/python3.11/dist-packages (from scikit-learn>=0.21->open3d) (1.5.0)\n",
            "Requirement already satisfied: threadpoolctl>=3.1.0 in /usr/local/lib/python3.11/dist-packages (from scikit-learn>=0.21->open3d) (3.6.0)\n",
            "Requirement already satisfied: MarkupSafe>=2.1.1 in /usr/local/lib/python3.11/dist-packages (from werkzeug>=3.0.0->open3d) (3.0.2)\n",
            "Collecting jedi>=0.16 (from ipython>=6.1.0->ipywidgets>=8.0.4->open3d)\n",
            "  Downloading jedi-0.19.2-py2.py3-none-any.whl.metadata (22 kB)\n",
            "Requirement already satisfied: decorator in /usr/local/lib/python3.11/dist-packages (from ipython>=6.1.0->ipywidgets>=8.0.4->open3d) (4.4.2)\n",
            "Requirement already satisfied: pickleshare in /usr/local/lib/python3.11/dist-packages (from ipython>=6.1.0->ipywidgets>=8.0.4->open3d) (0.7.5)\n",
            "Requirement already satisfied: prompt-toolkit!=3.0.0,!=3.0.1,<3.1.0,>=2.0.0 in /usr/local/lib/python3.11/dist-packages (from ipython>=6.1.0->ipywidgets>=8.0.4->open3d) (3.0.51)\n",
            "Requirement already satisfied: pygments in /usr/local/lib/python3.11/dist-packages (from ipython>=6.1.0->ipywidgets>=8.0.4->open3d) (2.19.1)\n",
            "Requirement already satisfied: backcall in /usr/local/lib/python3.11/dist-packages (from ipython>=6.1.0->ipywidgets>=8.0.4->open3d) (0.2.0)\n",
            "Requirement already satisfied: matplotlib-inline in /usr/local/lib/python3.11/dist-packages (from ipython>=6.1.0->ipywidgets>=8.0.4->open3d) (0.1.7)\n",
            "Requirement already satisfied: pexpect>4.3 in /usr/local/lib/python3.11/dist-packages (from ipython>=6.1.0->ipywidgets>=8.0.4->open3d) (4.9.0)\n",
            "Requirement already satisfied: attrs>=22.2.0 in /usr/local/lib/python3.11/dist-packages (from jsonschema>=2.6->nbformat>=5.7.0->open3d) (25.3.0)\n",
            "Requirement already satisfied: jsonschema-specifications>=2023.03.6 in /usr/local/lib/python3.11/dist-packages (from jsonschema>=2.6->nbformat>=5.7.0->open3d) (2025.4.1)\n",
            "Requirement already satisfied: referencing>=0.28.4 in /usr/local/lib/python3.11/dist-packages (from jsonschema>=2.6->nbformat>=5.7.0->open3d) (0.36.2)\n",
            "Requirement already satisfied: rpds-py>=0.7.1 in /usr/local/lib/python3.11/dist-packages (from jsonschema>=2.6->nbformat>=5.7.0->open3d) (0.25.1)\n",
            "Requirement already satisfied: platformdirs>=2.5 in /usr/local/lib/python3.11/dist-packages (from jupyter-core!=5.0.*,>=4.12->nbformat>=5.7.0->open3d) (4.3.8)\n",
            "Requirement already satisfied: tenacity>=6.2.0 in /usr/local/lib/python3.11/dist-packages (from plotly>=5.0.0->dash>=2.6.0->open3d) (9.1.2)\n",
            "Requirement already satisfied: six>=1.5 in /usr/local/lib/python3.11/dist-packages (from python-dateutil>=2.7->matplotlib>=3->open3d) (1.17.0)\n",
            "Requirement already satisfied: zipp>=3.20 in /usr/local/lib/python3.11/dist-packages (from importlib-metadata->dash>=2.6.0->open3d) (3.21.0)\n",
            "Requirement already satisfied: charset-normalizer<4,>=2 in /usr/local/lib/python3.11/dist-packages (from requests->dash>=2.6.0->open3d) (3.4.2)\n",
            "Requirement already satisfied: idna<4,>=2.5 in /usr/local/lib/python3.11/dist-packages (from requests->dash>=2.6.0->open3d) (3.10)\n",
            "Requirement already satisfied: urllib3<3,>=1.21.1 in /usr/local/lib/python3.11/dist-packages (from requests->dash>=2.6.0->open3d) (2.4.0)\n",
            "Requirement already satisfied: certifi>=2017.4.17 in /usr/local/lib/python3.11/dist-packages (from requests->dash>=2.6.0->open3d) (2025.4.26)\n",
            "Requirement already satisfied: parso<0.9.0,>=0.8.4 in /usr/local/lib/python3.11/dist-packages (from jedi>=0.16->ipython>=6.1.0->ipywidgets>=8.0.4->open3d) (0.8.4)\n",
            "Requirement already satisfied: ptyprocess>=0.5 in /usr/local/lib/python3.11/dist-packages (from pexpect>4.3->ipython>=6.1.0->ipywidgets>=8.0.4->open3d) (0.7.0)\n",
            "Requirement already satisfied: wcwidth in /usr/local/lib/python3.11/dist-packages (from prompt-toolkit!=3.0.0,!=3.0.1,<3.1.0,>=2.0.0->ipython>=6.1.0->ipywidgets>=8.0.4->open3d) (0.2.13)\n",
            "Downloading open3d-0.19.0-cp311-cp311-manylinux_2_31_x86_64.whl (447.7 MB)\n",
            "\u001b[2K   \u001b[90m━━━━━━━━━━━━━━━━━━━━━━━━━━━━━━━━━━━━━━━━\u001b[0m \u001b[32m447.7/447.7 MB\u001b[0m \u001b[31m2.7 MB/s\u001b[0m eta \u001b[36m0:00:00\u001b[0m\n",
            "\u001b[?25hDownloading dash-3.0.4-py3-none-any.whl (7.9 MB)\n",
            "\u001b[2K   \u001b[90m━━━━━━━━━━━━━━━━━━━━━━━━━━━━━━━━━━━━━━━━\u001b[0m \u001b[32m7.9/7.9 MB\u001b[0m \u001b[31m17.1 MB/s\u001b[0m eta \u001b[36m0:00:00\u001b[0m\n",
            "\u001b[?25hDownloading flask-3.0.3-py3-none-any.whl (101 kB)\n",
            "\u001b[2K   \u001b[90m━━━━━━━━━━━━━━━━━━━━━━━━━━━━━━━━━━━━━━━━\u001b[0m \u001b[32m101.7/101.7 kB\u001b[0m \u001b[31m10.3 MB/s\u001b[0m eta \u001b[36m0:00:00\u001b[0m\n",
            "\u001b[?25hDownloading ipywidgets-8.1.7-py3-none-any.whl (139 kB)\n",
            "\u001b[2K   \u001b[90m━━━━━━━━━━━━━━━━━━━━━━━━━━━━━━━━━━━━━━━━\u001b[0m \u001b[32m139.8/139.8 kB\u001b[0m \u001b[31m11.4 MB/s\u001b[0m eta \u001b[36m0:00:00\u001b[0m\n",
            "\u001b[?25hDownloading werkzeug-3.0.6-py3-none-any.whl (227 kB)\n",
            "\u001b[2K   \u001b[90m━━━━━━━━━━━━━━━━━━━━━━━━━━━━━━━━━━━━━━━━\u001b[0m \u001b[32m228.0/228.0 kB\u001b[0m \u001b[31m11.2 MB/s\u001b[0m eta \u001b[36m0:00:00\u001b[0m\n",
            "\u001b[?25hDownloading addict-2.4.0-py3-none-any.whl (3.8 kB)\n",
            "Downloading configargparse-1.7.1-py3-none-any.whl (25 kB)\n",
            "Downloading pyquaternion-0.9.9-py3-none-any.whl (14 kB)\n",
            "Downloading comm-0.2.2-py3-none-any.whl (7.2 kB)\n",
            "Downloading widgetsnbextension-4.0.14-py3-none-any.whl (2.2 MB)\n",
            "\u001b[2K   \u001b[90m━━━━━━━━━━━━━━━━━━━━━━━━━━━━━━━━━━━━━━━━\u001b[0m \u001b[32m2.2/2.2 MB\u001b[0m \u001b[31m16.3 MB/s\u001b[0m eta \u001b[36m0:00:00\u001b[0m\n",
            "\u001b[?25hDownloading retrying-1.3.4-py3-none-any.whl (11 kB)\n",
            "Downloading jedi-0.19.2-py2.py3-none-any.whl (1.6 MB)\n",
            "\u001b[2K   \u001b[90m━━━━━━━━━━━━━━━━━━━━━━━━━━━━━━━━━━━━━━━━\u001b[0m \u001b[32m1.6/1.6 MB\u001b[0m \u001b[31m16.4 MB/s\u001b[0m eta \u001b[36m0:00:00\u001b[0m\n",
            "\u001b[?25hInstalling collected packages: addict, widgetsnbextension, werkzeug, retrying, pyquaternion, jedi, configargparse, comm, flask, ipywidgets, dash, open3d\n",
            "  Attempting uninstall: widgetsnbextension\n",
            "    Found existing installation: widgetsnbextension 3.6.10\n",
            "    Uninstalling widgetsnbextension-3.6.10:\n",
            "      Successfully uninstalled widgetsnbextension-3.6.10\n",
            "  Attempting uninstall: werkzeug\n",
            "    Found existing installation: Werkzeug 3.1.3\n",
            "    Uninstalling Werkzeug-3.1.3:\n",
            "      Successfully uninstalled Werkzeug-3.1.3\n",
            "  Attempting uninstall: flask\n",
            "    Found existing installation: Flask 3.1.1\n",
            "    Uninstalling Flask-3.1.1:\n",
            "      Successfully uninstalled Flask-3.1.1\n",
            "  Attempting uninstall: ipywidgets\n",
            "    Found existing installation: ipywidgets 7.7.1\n",
            "    Uninstalling ipywidgets-7.7.1:\n",
            "      Successfully uninstalled ipywidgets-7.7.1\n",
            "Successfully installed addict-2.4.0 comm-0.2.2 configargparse-1.7.1 dash-3.0.4 flask-3.0.3 ipywidgets-8.1.7 jedi-0.19.2 open3d-0.19.0 pyquaternion-0.9.9 retrying-1.3.4 werkzeug-3.0.6 widgetsnbextension-4.0.14\n"
          ]
        }
      ]
    },
    {
      "cell_type": "code",
      "source": [
        "# import libraries\n",
        "import open3d as o3d\n",
        "import numpy as np\n",
        "import glob\n",
        "import os\n",
        "import random\n",
        "import matplotlib.pyplot as plt\n",
        "from mpl_toolkits.mplot3d import Axes3D\n",
        "from collections import Counter\n",
        "from sklearn.model_selection import train_test_split\n",
        "import tensorflow as tf\n",
        "from tensorflow.keras import layers, models\n",
        "from sklearn.metrics import classification_report, confusion_matrix, ConfusionMatrixDisplay\n",
        "import tensorflow.keras.backend as K"
      ],
      "metadata": {
        "id": "gRwXByzNmcn3"
      },
      "execution_count": 3,
      "outputs": []
    },
    {
      "cell_type": "code",
      "source": [
        "# Load .ply Dataset\n",
        "def read_ply_file(filepath):\n",
        "    pcd = o3d.io.read_point_cloud(filepath)\n",
        "    points = np.asarray(pcd.points)\n",
        "    colors = np.asarray(pcd.colors)\n",
        "    return points, colors\n",
        "\n",
        "def load_dataset(data_dir, num_points=1024):\n",
        "    file_paths = glob.glob(os.path.join(data_dir, '**', '*.ply'), recursive=True)\n",
        "\n",
        "    data, labels, file_paths_used = [], [], []\n",
        "    label_map = {}\n",
        "\n",
        "    for path in file_paths:\n",
        "        points, colors = read_ply_file(path)\n",
        "        if points.shape[0] == 0:\n",
        "            continue\n",
        "\n",
        "        pc_data = np.concatenate([points, colors], axis=1)\n",
        "        pc_data = pc_data[:num_points]\n",
        "        if pc_data.shape[0] < num_points:\n",
        "            pad = np.zeros((num_points - pc_data.shape[0], 6))\n",
        "            pc_data = np.vstack([pc_data, pad])\n",
        "\n",
        "        label = os.path.basename(path).split('-')[0]\n",
        "        if label not in label_map:\n",
        "            label_map[label] = len(label_map)\n",
        "\n",
        "        data.append(pc_data)\n",
        "        labels.append(label_map[label])\n",
        "        file_paths_used.append(path)\n",
        "\n",
        "    return np.array(data), np.array(labels), label_map, file_paths_used"
      ],
      "metadata": {
        "id": "KWSC1KGwnElt"
      },
      "execution_count": 4,
      "outputs": []
    },
    {
      "cell_type": "code",
      "source": [
        "# Shuffle\n",
        "def shuffle_data(data, labels):\n",
        "    idx = np.arange(len(labels))\n",
        "    np.random.shuffle(idx)\n",
        "    return data[idx], labels[idx], idx\n",
        "\n",
        "# Augmentation\n",
        "def rotate_point_cloud(batch_data):\n",
        "    rotated = np.zeros_like(batch_data)\n",
        "    for i in range(batch_data.shape[0]):\n",
        "        angle = np.random.uniform() * 2 * np.pi\n",
        "        cosval, sinval = np.cos(angle), np.sin(angle)\n",
        "        R = np.array([[cosval, 0, sinval], [0, 1, 0], [-sinval, 0, cosval]])\n",
        "        rotated[i, :, :3] = np.dot(batch_data[i, :, :3], R.T)\n",
        "        rotated[i, :, 3:] = batch_data[i, :, 3:]\n",
        "    return rotated\n",
        "\n",
        "def jitter_point_cloud(batch_data, sigma=0.01, clip=0.05):\n",
        "    B, N, C = batch_data.shape\n",
        "    noise = np.clip(sigma * np.random.randn(B, N, 3), -clip, clip)\n",
        "    batch_data[:, :, :3] += noise\n",
        "    return batch_data"
      ],
      "metadata": {
        "id": "BzvR3VuO0jXd"
      },
      "execution_count": 5,
      "outputs": []
    },
    {
      "cell_type": "code",
      "source": [
        "#Point cloud visualization\n",
        "def visualize_sample(sample, title=None):\n",
        "    fig = plt.figure(figsize=(8, 6))\n",
        "    ax = fig.add_subplot(111, projection='3d')\n",
        "\n",
        "    xyz = sample[:, :3]\n",
        "    rgb = sample[:, 3:]\n",
        "\n",
        "    ax.scatter(xyz[:, 0], xyz[:, 1], xyz[:, 2], c=rgb, s=1)\n",
        "    ax.set_xlabel('X')\n",
        "    ax.set_ylabel('Y')\n",
        "    ax.set_zlabel('Z')\n",
        "    if title:\n",
        "        ax.set_title(title)\n",
        "    plt.show()"
      ],
      "metadata": {
        "id": "52GP-hCioE62"
      },
      "execution_count": 6,
      "outputs": []
    },
    {
      "cell_type": "code",
      "source": [
        "# Load data\n",
        "data_dir = '/content/drive/MyDrive/NoiseReductionChair'\n",
        "data, labels, label_map, file_paths_used = load_dataset(data_dir)\n",
        "print(f\"Loaded {len(data)} samples with {len(label_map)} unique labels.\")\n",
        "\n",
        "# Data preprocessing\n",
        "data, labels, _ = shuffle_data(data, labels)\n",
        "data = rotate_point_cloud(data)\n",
        "data = jitter_point_cloud(data)"
      ],
      "metadata": {
        "id": "owp53kchmI_u",
        "colab": {
          "base_uri": "https://localhost:8080/"
        },
        "outputId": "086007cc-2317-4a6f-ee06-acc87d7a7b03"
      },
      "execution_count": 7,
      "outputs": [
        {
          "output_type": "stream",
          "name": "stdout",
          "text": [
            "Loaded 437 samples with 6 unique labels.\n"
          ]
        }
      ]
    },
    {
      "cell_type": "code",
      "source": [
        "print (data.shape)\n",
        "print(label_map)"
      ],
      "metadata": {
        "id": "n_0NdNE_pZpP",
        "colab": {
          "base_uri": "https://localhost:8080/"
        },
        "outputId": "0b35f9ca-95b5-457c-d646-6635e7fb1daf"
      },
      "execution_count": 8,
      "outputs": [
        {
          "output_type": "stream",
          "name": "stdout",
          "text": [
            "(437, 1024, 6)\n",
            "{'amia': 0, 'focusside': 1, 'hoopz': 2, 'torsa': 3, 'wittask': 4, 'X99': 5}\n"
          ]
        }
      ]
    },
    {
      "cell_type": "code",
      "source": [
        "#index = random.randint(0, len(data)-1)\n",
        "index = 0\n",
        "label_name = list(label_map.keys())[list(label_map.values()).index(labels[index])]\n",
        "print(f\"Label index: {labels[index]}, Label name: {label_name}\")\n",
        "\n",
        "#visualize_sample(data[index], title=f\"Label: {label_name}\")"
      ],
      "metadata": {
        "id": "OmmuButYoq9y",
        "colab": {
          "base_uri": "https://localhost:8080/"
        },
        "outputId": "74e75aa7-a4a4-4840-92b0-cd4874afd5f5"
      },
      "execution_count": 9,
      "outputs": [
        {
          "output_type": "stream",
          "name": "stdout",
          "text": [
            "Label index: 1, Label name: focusside\n"
          ]
        }
      ]
    },
    {
      "cell_type": "code",
      "source": [
        "#Plot distribution of samples\n",
        "def plot_label_distribution(labels, label_map):\n",
        "    index_to_label = {v: k for k, v in label_map.items()}\n",
        "    label_counts = Counter(labels)\n",
        "    names = [index_to_label[i] for i in sorted(label_counts.keys())]\n",
        "    counts = [label_counts[i] for i in sorted(label_counts.keys())]\n",
        "    plt.figure(figsize=(10, 5))\n",
        "    plt.bar(names, counts, color='skyblue')\n",
        "    plt.xlabel('Chair Model (Label Name)')\n",
        "    plt.ylabel('Number of Samples')\n",
        "    plt.title('Distribution of Chair Models in the Dataset')\n",
        "    plt.xticks(rotation=45)\n",
        "    plt.tight_layout()\n",
        "    plt.grid(axis='y', linestyle='--', alpha=0.5)\n",
        "    plt.show()"
      ],
      "metadata": {
        "id": "CKFQppDJwRFk"
      },
      "execution_count": 10,
      "outputs": []
    },
    {
      "cell_type": "code",
      "source": [
        "plot_label_distribution(labels, label_map)"
      ],
      "metadata": {
        "id": "iVI5jxH0wWH3",
        "colab": {
          "base_uri": "https://localhost:8080/",
          "height": 507
        },
        "outputId": "872617c0-bf06-4f6e-f18f-1ac29fbd305e"
      },
      "execution_count": 11,
      "outputs": [
        {
          "output_type": "display_data",
          "data": {
            "text/plain": [
              "<Figure size 1000x500 with 1 Axes>"
            ],
            "image/png": "[encoded data removed]"
          },
          "metadata": {}
        }
      ]
    },
    {
      "cell_type": "code",
      "source": [
        "#Split data to train and test\n",
        "X_train, X_test, y_train, y_test = train_test_split(data, labels, test_size=0.2, stratify=labels)"
      ],
      "metadata": {
        "id": "Mbuxa_Phspho"
      },
      "execution_count": 12,
      "outputs": []
    },
    {
      "cell_type": "code",
      "source": [
        "# Orthogonality loss\n",
        "class OrthogonalRegularizer(layers.Layer):\n",
        "    def __init__(self, lam=1e-3, **kwargs):\n",
        "        super().__init__(**kwargs)\n",
        "        self.lam = lam\n",
        "\n",
        "    def call(self, matrix):\n",
        "        k = tf.shape(matrix)[-1]\n",
        "        eye = tf.eye(k)\n",
        "        mat_t = tf.transpose(matrix, perm=[0, 2, 1])\n",
        "        diff = tf.matmul(matrix, mat_t) - eye\n",
        "        loss = self.lam * tf.reduce_mean(tf.square(diff))\n",
        "        self.add_loss(loss)\n",
        "        return matrix"
      ],
      "metadata": {
        "id": "OmToFbHbwUym"
      },
      "execution_count": 13,
      "outputs": []
    },
    {
      "cell_type": "code",
      "source": [
        "# T-Net layers\n",
        "def tnet(inputs, k):\n",
        "    x = layers.Conv1D(64, 1, activation=\"relu\")(inputs)\n",
        "    x = layers.BatchNormalization()(x)\n",
        "    x = layers.Conv1D(128, 1, activation=\"relu\")(x)\n",
        "    x = layers.BatchNormalization()(x)\n",
        "    x = layers.Conv1D(1024, 1, activation=\"relu\")(x)\n",
        "    x = layers.BatchNormalization()(x)\n",
        "    x = layers.GlobalMaxPooling1D()(x)\n",
        "\n",
        "    x = layers.Dense(512, activation=\"relu\")(x)\n",
        "    x = layers.BatchNormalization()(x)\n",
        "    x = layers.Dense(256, activation=\"relu\")(x)\n",
        "    x = layers.BatchNormalization()(x)\n",
        "\n",
        "    eye = np.eye(k).flatten()\n",
        "    bias_init = tf.keras.initializers.Constant(eye)\n",
        "    x = layers.Dense(k * k, kernel_initializer=\"zeros\",\n",
        "                     bias_initializer=bias_init)(x)\n",
        "    return layers.Reshape((k, k))(x)\n",
        "\n",
        "\n",
        "class TransformLayer(layers.Layer):\n",
        "    def __init__(self, k):\n",
        "        super().__init__()\n",
        "        self.k = k\n",
        "\n",
        "    def call(self, inputs):\n",
        "        feats, T = inputs\n",
        "        return tf.matmul(feats, T)"
      ],
      "metadata": {
        "id": "mhvkBaja55BZ"
      },
      "execution_count": 14,
      "outputs": []
    },
    {
      "cell_type": "code",
      "source": [
        "# PointNet model architecture\n",
        "def build_pointnet(num_points=1024,\n",
        "                   input_channels=6,\n",
        "                   num_classes=6,\n",
        "                   lam=1e-3):\n",
        "\n",
        "    inputs = tf.keras.Input(shape=(num_points, input_channels))\n",
        "    xyz  = layers.Lambda(lambda t: t[:, :, :3])(inputs)\n",
        "    aux  = layers.Lambda(lambda t: t[:, :, 3:])(inputs)\n",
        "\n",
        "    # alignment\n",
        "    T0   = tnet(xyz, k=3)\n",
        "    T0   = OrthogonalRegularizer(lam)(T0)\n",
        "    xyz  = TransformLayer(3)([xyz, T0])\n",
        "\n",
        "    # shared MLP 1\n",
        "    feats = layers.Concatenate()([xyz, aux])\n",
        "    feats = layers.Conv1D(64, 1, activation=\"relu\")(feats)\n",
        "    feats = layers.BatchNormalization()(feats)\n",
        "    feats = layers.Conv1D(64, 1, activation=\"relu\")(feats)\n",
        "    feats = layers.BatchNormalization()(feats)\n",
        "\n",
        "    # feature alignment\n",
        "    T1   = tnet(feats, k=64)\n",
        "    T1   = OrthogonalRegularizer(lam)(T1)\n",
        "    feats = TransformLayer(64)([feats, T1])\n",
        "\n",
        "    # shared MLP 2\n",
        "    feats = layers.Conv1D(64, 1, activation=\"relu\")(feats)\n",
        "    feats = layers.BatchNormalization()(feats)\n",
        "    feats = layers.Conv1D(128, 1, activation=\"relu\")(feats)\n",
        "    feats = layers.BatchNormalization()(feats)\n",
        "    feats = layers.Conv1D(1024, 1, activation=\"relu\")(feats)\n",
        "    feats = layers.BatchNormalization()(feats)\n",
        "\n",
        "    # global feature & classifier\n",
        "    x = layers.GlobalMaxPooling1D()(feats)\n",
        "    x = layers.Dense(512, activation=\"relu\")(x)\n",
        "    x = layers.BatchNormalization()(x)\n",
        "    x = layers.Dropout(0.3)(x)\n",
        "\n",
        "    x = layers.Dense(256, activation=\"relu\")(x)\n",
        "    x = layers.BatchNormalization()(x)\n",
        "    x = layers.Dropout(0.3)(x)\n",
        "\n",
        "    outputs = layers.Dense(num_classes, activation=\"softmax\")(x)\n",
        "    return tf.keras.Model(inputs, outputs)"
      ],
      "metadata": {
        "id": "tL2fhnlg6Fw2"
      },
      "execution_count": 15,
      "outputs": []
    },
    {
      "cell_type": "code",
      "source": [
        "X_train = X_train.astype(\"float32\")\n",
        "X_test  = X_test.astype(\"float32\")\n",
        "y_train = tf.keras.utils.to_categorical(y_train)\n",
        "y_test  = tf.keras.utils.to_categorical(y_test)\n",
        "num_classes = y_train.shape[1]\n",
        "\n",
        "model = build_pointnet(num_points=1024,\n",
        "                       input_channels=6,\n",
        "                       num_classes=num_classes)\n",
        "\n",
        "model.compile(optimizer=tf.keras.optimizers.Adam(1e-3),\n",
        "              loss=\"categorical_crossentropy\",\n",
        "              metrics=[\"accuracy\"])\n",
        "\n",
        "# Callbacks\n",
        "early_stop = tf.keras.callbacks.EarlyStopping(monitor='val_loss', patience=8, restore_best_weights=True, verbose=1)\n",
        "reduce_lr = tf.keras.callbacks.ReduceLROnPlateau(monitor='val_loss', factor=0.5, patience=5, min_lr=1e-6, verbose=1)\n",
        "\n",
        "# Train\n",
        "model.fit(X_train, y_train,\n",
        "          batch_size=32,\n",
        "          epochs=50,\n",
        "          validation_data=(X_test, y_test),\n",
        "          callbacks=[early_stop, reduce_lr],\n",
        "          shuffle=True)"
      ],
      "metadata": {
        "colab": {
          "base_uri": "https://localhost:8080/"
        },
        "id": "f4RF2Bo99-Wb",
        "outputId": "f3b46abf-07b6-4a8d-ba7a-0e0aeb23802e"
      },
      "execution_count": 16,
      "outputs": [
        {
          "output_type": "stream",
          "name": "stdout",
          "text": [
            "Epoch 1/50\n",
            "\u001b[1m11/11\u001b[0m \u001b[32m━━━━━━━━━━━━━━━━━━━━\u001b[0m\u001b[37m\u001b[0m \u001b[1m48s\u001b[0m 4s/step - accuracy: 0.2420 - loss: 2.6486 - val_accuracy: 0.3182 - val_loss: 2.8553 - learning_rate: 0.0010\n",
            "Epoch 2/50\n",
            "\u001b[1m11/11\u001b[0m \u001b[32m━━━━━━━━━━━━━━━━━━━━\u001b[0m\u001b[37m\u001b[0m \u001b[1m42s\u001b[0m 4s/step - accuracy: 0.3336 - loss: 2.1369 - val_accuracy: 0.5568 - val_loss: 1.6208 - learning_rate: 0.0010\n",
            "Epoch 3/50\n",
            "\u001b[1m11/11\u001b[0m \u001b[32m━━━━━━━━━━━━━━━━━━━━\u001b[0m\u001b[37m\u001b[0m \u001b[1m77s\u001b[0m 3s/step - accuracy: 0.4121 - loss: 1.7539 - val_accuracy: 0.5114 - val_loss: 1.6507 - learning_rate: 0.0010\n",
            "Epoch 4/50\n",
            "\u001b[1m11/11\u001b[0m \u001b[32m━━━━━━━━━━━━━━━━━━━━\u001b[0m\u001b[37m\u001b[0m \u001b[1m41s\u001b[0m 3s/step - accuracy: 0.4712 - loss: 1.8182 - val_accuracy: 0.5114 - val_loss: 1.4847 - learning_rate: 0.0010\n",
            "Epoch 5/50\n",
            "\u001b[1m11/11\u001b[0m \u001b[32m━━━━━━━━━━━━━━━━━━━━\u001b[0m\u001b[37m\u001b[0m \u001b[1m41s\u001b[0m 3s/step - accuracy: 0.4749 - loss: 1.8011 - val_accuracy: 0.5000 - val_loss: 1.4762 - learning_rate: 0.0010\n",
            "Epoch 6/50\n",
            "\u001b[1m11/11\u001b[0m \u001b[32m━━━━━━━━━━━━━━━━━━━━\u001b[0m\u001b[37m\u001b[0m \u001b[1m41s\u001b[0m 4s/step - accuracy: 0.4227 - loss: 1.8038 - val_accuracy: 0.5114 - val_loss: 1.5359 - learning_rate: 0.0010\n",
            "Epoch 7/50\n",
            "\u001b[1m11/11\u001b[0m \u001b[32m━━━━━━━━━━━━━━━━━━━━\u001b[0m\u001b[37m\u001b[0m \u001b[1m43s\u001b[0m 4s/step - accuracy: 0.4828 - loss: 1.6655 - val_accuracy: 0.5114 - val_loss: 1.5514 - learning_rate: 0.0010\n",
            "Epoch 8/50\n",
            "\u001b[1m11/11\u001b[0m \u001b[32m━━━━━━━━━━━━━━━━━━━━\u001b[0m\u001b[37m\u001b[0m \u001b[1m78s\u001b[0m 4s/step - accuracy: 0.4156 - loss: 1.6698 - val_accuracy: 0.5341 - val_loss: 1.4212 - learning_rate: 0.0010\n",
            "Epoch 9/50\n",
            "\u001b[1m11/11\u001b[0m \u001b[32m━━━━━━━━━━━━━━━━━━━━\u001b[0m\u001b[37m\u001b[0m \u001b[1m42s\u001b[0m 4s/step - accuracy: 0.4904 - loss: 1.4295 - val_accuracy: 0.5341 - val_loss: 1.3844 - learning_rate: 0.0010\n",
            "Epoch 10/50\n",
            "\u001b[1m11/11\u001b[0m \u001b[32m━━━━━━━━━━━━━━━━━━━━\u001b[0m\u001b[37m\u001b[0m \u001b[1m40s\u001b[0m 3s/step - accuracy: 0.5008 - loss: 1.5824 - val_accuracy: 0.5568 - val_loss: 1.2895 - learning_rate: 0.0010\n",
            "Epoch 11/50\n",
            "\u001b[1m11/11\u001b[0m \u001b[32m━━━━━━━━━━━━━━━━━━━━\u001b[0m\u001b[37m\u001b[0m \u001b[1m41s\u001b[0m 4s/step - accuracy: 0.5242 - loss: 1.3603 - val_accuracy: 0.5909 - val_loss: 1.2779 - learning_rate: 0.0010\n",
            "Epoch 12/50\n",
            "\u001b[1m11/11\u001b[0m \u001b[32m━━━━━━━━━━━━━━━━━━━━\u001b[0m\u001b[37m\u001b[0m \u001b[1m41s\u001b[0m 4s/step - accuracy: 0.5090 - loss: 1.4372 - val_accuracy: 0.5568 - val_loss: 1.2475 - learning_rate: 0.0010\n",
            "Epoch 13/50\n",
            "\u001b[1m11/11\u001b[0m \u001b[32m━━━━━━━━━━━━━━━━━━━━\u001b[0m\u001b[37m\u001b[0m \u001b[1m40s\u001b[0m 4s/step - accuracy: 0.6055 - loss: 1.1573 - val_accuracy: 0.5909 - val_loss: 1.1979 - learning_rate: 0.0010\n",
            "Epoch 14/50\n",
            "\u001b[1m11/11\u001b[0m \u001b[32m━━━━━━━━━━━━━━━━━━━━\u001b[0m\u001b[37m\u001b[0m \u001b[1m40s\u001b[0m 4s/step - accuracy: 0.5757 - loss: 1.3050 - val_accuracy: 0.6136 - val_loss: 1.1296 - learning_rate: 0.0010\n",
            "Epoch 15/50\n",
            "\u001b[1m11/11\u001b[0m \u001b[32m━━━━━━━━━━━━━━━━━━━━\u001b[0m\u001b[37m\u001b[0m \u001b[1m42s\u001b[0m 4s/step - accuracy: 0.5201 - loss: 1.3720 - val_accuracy: 0.5682 - val_loss: 1.2168 - learning_rate: 0.0010\n",
            "Epoch 16/50\n",
            "\u001b[1m11/11\u001b[0m \u001b[32m━━━━━━━━━━━━━━━━━━━━\u001b[0m\u001b[37m\u001b[0m \u001b[1m40s\u001b[0m 4s/step - accuracy: 0.5627 - loss: 1.2513 - val_accuracy: 0.5795 - val_loss: 1.1934 - learning_rate: 0.0010\n",
            "Epoch 17/50\n",
            "\u001b[1m11/11\u001b[0m \u001b[32m━━━━━━━━━━━━━━━━━━━━\u001b[0m\u001b[37m\u001b[0m \u001b[1m41s\u001b[0m 4s/step - accuracy: 0.5052 - loss: 1.4464 - val_accuracy: 0.5568 - val_loss: 1.3273 - learning_rate: 0.0010\n",
            "Epoch 18/50\n",
            "\u001b[1m11/11\u001b[0m \u001b[32m━━━━━━━━━━━━━━━━━━━━\u001b[0m\u001b[37m\u001b[0m \u001b[1m41s\u001b[0m 4s/step - accuracy: 0.5478 - loss: 1.3846 - val_accuracy: 0.5909 - val_loss: 1.2036 - learning_rate: 0.0010\n",
            "Epoch 19/50\n",
            "\u001b[1m11/11\u001b[0m \u001b[32m━━━━━━━━━━━━━━━━━━━━\u001b[0m\u001b[37m\u001b[0m \u001b[1m0s\u001b[0m 3s/step - accuracy: 0.5630 - loss: 1.2627\n",
            "Epoch 19: ReduceLROnPlateau reducing learning rate to 0.0005000000237487257.\n",
            "\u001b[1m11/11\u001b[0m \u001b[32m━━━━━━━━━━━━━━━━━━━━\u001b[0m\u001b[37m\u001b[0m \u001b[1m41s\u001b[0m 4s/step - accuracy: 0.5639 - loss: 1.2602 - val_accuracy: 0.5568 - val_loss: 1.2442 - learning_rate: 0.0010\n",
            "Epoch 20/50\n",
            "\u001b[1m11/11\u001b[0m \u001b[32m━━━━━━━━━━━━━━━━━━━━\u001b[0m\u001b[37m\u001b[0m \u001b[1m41s\u001b[0m 4s/step - accuracy: 0.5599 - loss: 1.3636 - val_accuracy: 0.5568 - val_loss: 1.2644 - learning_rate: 5.0000e-04\n",
            "Epoch 21/50\n",
            "\u001b[1m11/11\u001b[0m \u001b[32m━━━━━━━━━━━━━━━━━━━━\u001b[0m\u001b[37m\u001b[0m \u001b[1m51s\u001b[0m 4s/step - accuracy: 0.5707 - loss: 1.3087 - val_accuracy: 0.5909 - val_loss: 1.0595 - learning_rate: 5.0000e-04\n",
            "Epoch 22/50\n",
            "\u001b[1m11/11\u001b[0m \u001b[32m━━━━━━━━━━━━━━━━━━━━\u001b[0m\u001b[37m\u001b[0m \u001b[1m73s\u001b[0m 4s/step - accuracy: 0.6257 - loss: 1.0616 - val_accuracy: 0.6364 - val_loss: 1.0228 - learning_rate: 5.0000e-04\n",
            "Epoch 23/50\n",
            "\u001b[1m11/11\u001b[0m \u001b[32m━━━━━━━━━━━━━━━━━━━━\u001b[0m\u001b[37m\u001b[0m \u001b[1m81s\u001b[0m 4s/step - accuracy: 0.5958 - loss: 1.2756 - val_accuracy: 0.6591 - val_loss: 1.0319 - learning_rate: 5.0000e-04\n",
            "Epoch 24/50\n",
            "\u001b[1m11/11\u001b[0m \u001b[32m━━━━━━━━━━━━━━━━━━━━\u001b[0m\u001b[37m\u001b[0m \u001b[1m42s\u001b[0m 4s/step - accuracy: 0.5869 - loss: 1.1692 - val_accuracy: 0.6591 - val_loss: 1.0056 - learning_rate: 5.0000e-04\n",
            "Epoch 25/50\n",
            "\u001b[1m11/11\u001b[0m \u001b[32m━━━━━━━━━━━━━━━━━━━━\u001b[0m\u001b[37m\u001b[0m \u001b[1m81s\u001b[0m 4s/step - accuracy: 0.5769 - loss: 1.1866 - val_accuracy: 0.6477 - val_loss: 1.0192 - learning_rate: 5.0000e-04\n",
            "Epoch 26/50\n",
            "\u001b[1m11/11\u001b[0m \u001b[32m━━━━━━━━━━━━━━━━━━━━\u001b[0m\u001b[37m\u001b[0m \u001b[1m41s\u001b[0m 4s/step - accuracy: 0.6242 - loss: 1.0612 - val_accuracy: 0.6705 - val_loss: 0.9713 - learning_rate: 5.0000e-04\n",
            "Epoch 27/50\n",
            "\u001b[1m11/11\u001b[0m \u001b[32m━━━━━━━━━━━━━━━━━━━━\u001b[0m\u001b[37m\u001b[0m \u001b[1m42s\u001b[0m 4s/step - accuracy: 0.6583 - loss: 1.0365 - val_accuracy: 0.6023 - val_loss: 1.0681 - learning_rate: 5.0000e-04\n",
            "Epoch 28/50\n",
            "\u001b[1m11/11\u001b[0m \u001b[32m━━━━━━━━━━━━━━━━━━━━\u001b[0m\u001b[37m\u001b[0m \u001b[1m81s\u001b[0m 4s/step - accuracy: 0.6151 - loss: 1.1328 - val_accuracy: 0.6705 - val_loss: 1.0223 - learning_rate: 5.0000e-04\n",
            "Epoch 29/50\n",
            "\u001b[1m11/11\u001b[0m \u001b[32m━━━━━━━━━━━━━━━━━━━━\u001b[0m\u001b[37m\u001b[0m \u001b[1m82s\u001b[0m 4s/step - accuracy: 0.5887 - loss: 1.0688 - val_accuracy: 0.6591 - val_loss: 0.9855 - learning_rate: 5.0000e-04\n",
            "Epoch 30/50\n",
            "\u001b[1m11/11\u001b[0m \u001b[32m━━━━━━━━━━━━━━━━━━━━\u001b[0m\u001b[37m\u001b[0m \u001b[1m42s\u001b[0m 4s/step - accuracy: 0.6365 - loss: 1.0127 - val_accuracy: 0.6932 - val_loss: 1.0088 - learning_rate: 5.0000e-04\n",
            "Epoch 31/50\n",
            "\u001b[1m11/11\u001b[0m \u001b[32m━━━━━━━━━━━━━━━━━━━━\u001b[0m\u001b[37m\u001b[0m \u001b[1m0s\u001b[0m 4s/step - accuracy: 0.6422 - loss: 0.9431\n",
            "Epoch 31: ReduceLROnPlateau reducing learning rate to 0.0002500000118743628.\n",
            "\u001b[1m11/11\u001b[0m \u001b[32m━━━━━━━━━━━━━━━━━━━━\u001b[0m\u001b[37m\u001b[0m \u001b[1m85s\u001b[0m 4s/step - accuracy: 0.6408 - loss: 0.9453 - val_accuracy: 0.6932 - val_loss: 1.0152 - learning_rate: 5.0000e-04\n",
            "Epoch 32/50\n",
            "\u001b[1m11/11\u001b[0m \u001b[32m━━━━━━━━━━━━━━━━━━━━\u001b[0m\u001b[37m\u001b[0m \u001b[1m78s\u001b[0m 4s/step - accuracy: 0.5540 - loss: 1.0829 - val_accuracy: 0.6705 - val_loss: 1.0000 - learning_rate: 2.5000e-04\n",
            "Epoch 33/50\n",
            "\u001b[1m11/11\u001b[0m \u001b[32m━━━━━━━━━━━━━━━━━━━━\u001b[0m\u001b[37m\u001b[0m \u001b[1m83s\u001b[0m 4s/step - accuracy: 0.6858 - loss: 0.9443 - val_accuracy: 0.6818 - val_loss: 0.9911 - learning_rate: 2.5000e-04\n",
            "Epoch 34/50\n",
            "\u001b[1m11/11\u001b[0m \u001b[32m━━━━━━━━━━━━━━━━━━━━\u001b[0m\u001b[37m\u001b[0m \u001b[1m81s\u001b[0m 4s/step - accuracy: 0.6349 - loss: 0.9487 - val_accuracy: 0.6591 - val_loss: 1.0105 - learning_rate: 2.5000e-04\n",
            "Epoch 34: early stopping\n",
            "Restoring model weights from the end of the best epoch: 26.\n"
          ]
        },
        {
          "output_type": "execute_result",
          "data": {
            "text/plain": [
              "<keras.src.callbacks.history.History at 0x7d0b3f124a10>"
            ]
          },
          "metadata": {},
          "execution_count": 16
        }
      ]
    },
    {
      "cell_type": "code",
      "source": [
        "loss, accuracy = model.evaluate(X_test, y_test, verbose=1)\n",
        "print(f\"Test Loss: {loss:.4f}\")\n",
        "print(f\"Test Accuracy: {accuracy * 100:.2f}%\")"
      ],
      "metadata": {
        "colab": {
          "base_uri": "https://localhost:8080/"
        },
        "id": "kdX7BNmWDsYR",
        "outputId": "75841d44-569a-46e3-9c8a-7fbd863b19a3"
      },
      "execution_count": 17,
      "outputs": [
        {
          "output_type": "stream",
          "name": "stdout",
          "text": [
            "\u001b[1m3/3\u001b[0m \u001b[32m━━━━━━━━━━━━━━━━━━━━\u001b[0m\u001b[37m\u001b[0m \u001b[1m2s\u001b[0m 574ms/step - accuracy: 0.6946 - loss: 0.9479\n",
            "Test Loss: 0.9713\n",
            "Test Accuracy: 67.05%\n"
          ]
        }
      ]
    },
    {
      "cell_type": "code",
      "source": [
        "# Convert one-hot to labels\n",
        "y_pred_probs = model.predict(X_test)\n",
        "y_pred = np.argmax(y_pred_probs, axis=1)\n",
        "y_true = np.argmax(y_test, axis=1)\n",
        "\n",
        "# Classification\n",
        "print(\"Classification Report:\")\n",
        "print(classification_report(y_true, y_pred))\n",
        "\n",
        "# Confusion matrix\n",
        "cm = confusion_matrix(y_true, y_pred)\n",
        "disp = ConfusionMatrixDisplay(confusion_matrix=cm)\n",
        "disp.plot(cmap='Blues', xticks_rotation=45)\n",
        "plt.title(\"Confusion Matrix\")\n",
        "plt.tight_layout()\n",
        "plt.show()"
      ],
      "metadata": {
        "colab": {
          "base_uri": "https://localhost:8080/",
          "height": 872
        },
        "id": "8wRbNoDWD1qM",
        "outputId": "a5cccd54-99ca-49c0-d030-b7687f685b97"
      },
      "execution_count": 18,
      "outputs": [
        {
          "output_type": "stream",
          "name": "stdout",
          "text": [
            "\u001b[1m3/3\u001b[0m \u001b[32m━━━━━━━━━━━━━━━━━━━━\u001b[0m\u001b[37m\u001b[0m \u001b[1m3s\u001b[0m 918ms/step\n",
            "Classification Report:\n",
            "              precision    recall  f1-score   support\n",
            "\n",
            "           0       0.75      0.89      0.81        46\n",
            "           1       0.25      0.11      0.15         9\n",
            "           2       0.67      0.67      0.67         3\n",
            "           3       0.58      0.83      0.68        18\n",
            "           4       0.00      0.00      0.00         8\n",
            "           5       0.00      0.00      0.00         4\n",
            "\n",
            "    accuracy                           0.67        88\n",
            "   macro avg       0.37      0.42      0.39        88\n",
            "weighted avg       0.56      0.67      0.60        88\n",
            "\n"
          ]
        },
        {
          "output_type": "stream",
          "name": "stderr",
          "text": [
            "/usr/local/lib/python3.11/dist-packages/sklearn/metrics/_classification.py:1565: UndefinedMetricWarning: Precision is ill-defined and being set to 0.0 in labels with no predicted samples. Use `zero_division` parameter to control this behavior.\n",
            "  _warn_prf(average, modifier, f\"{metric.capitalize()} is\", len(result))\n",
            "/usr/local/lib/python3.11/dist-packages/sklearn/metrics/_classification.py:1565: UndefinedMetricWarning: Precision is ill-defined and being set to 0.0 in labels with no predicted samples. Use `zero_division` parameter to control this behavior.\n",
            "  _warn_prf(average, modifier, f\"{metric.capitalize()} is\", len(result))\n",
            "/usr/local/lib/python3.11/dist-packages/sklearn/metrics/_classification.py:1565: UndefinedMetricWarning: Precision is ill-defined and being set to 0.0 in labels with no predicted samples. Use `zero_division` parameter to control this behavior.\n",
            "  _warn_prf(average, modifier, f\"{metric.capitalize()} is\", len(result))\n"
          ]
        },
        {
          "output_type": "display_data",
          "data": {
            "text/plain": [
              "<Figure size 640x480 with 2 Axes>"
            ],
            "image/png": "[encoded data removed]"
          },
          "metadata": {}
        }
      ]
    },
    {
      "cell_type": "code",
      "source": [
        "# Per-class perfoamnce\n",
        "class_accuracy = cm.diagonal() / cm.sum(axis=1)\n",
        "for idx, acc in enumerate(class_accuracy):\n",
        "    class_name = [k for k, v in label_map.items() if v == idx][0]\n",
        "    print(f\"{class_name:>10}: {acc * 100:.2f}%\")"
      ],
      "metadata": {
        "colab": {
          "base_uri": "https://localhost:8080/"
        },
        "id": "Tdmq9CY1D86f",
        "outputId": "9d53123a-4311-45a3-9273-f9a58c2fd43b"
      },
      "execution_count": 19,
      "outputs": [
        {
          "output_type": "stream",
          "name": "stdout",
          "text": [
            "      amia: 89.13%\n",
            " focusside: 11.11%\n",
            "     hoopz: 66.67%\n",
            "     torsa: 83.33%\n",
            "   wittask: 0.00%\n",
            "       X99: 0.00%\n"
          ]
        }
      ]
    },
    {
      "cell_type": "code",
      "source": [
        "#test the trained model\n",
        "for _ in range(3):\n",
        "    i = np.random.randint(0, len(X_test))\n",
        "    pred_label = [k for k, v in label_map.items() if v == y_pred[i]][0]\n",
        "    true_label = [k for k, v in label_map.items() if v == y_true[i]][0]\n",
        "\n",
        "    print(f\"True: {true_label}, Predicted: {pred_label}\")\n",
        "    #visualize_sample(X_test[i], title=f\"True: {true_label} | Predicted: {pred_label}\")"
      ],
      "metadata": {
        "colab": {
          "base_uri": "https://localhost:8080/"
        },
        "id": "ubDVANSdEApW",
        "outputId": "484826f8-1c8d-4e84-c4dc-bb6390339888"
      },
      "execution_count": 20,
      "outputs": [
        {
          "output_type": "stream",
          "name": "stdout",
          "text": [
            "True: torsa, Predicted: torsa\n",
            "True: X99, Predicted: torsa\n",
            "True: torsa, Predicted: torsa\n"
          ]
        }
      ]
    }
  ]
}